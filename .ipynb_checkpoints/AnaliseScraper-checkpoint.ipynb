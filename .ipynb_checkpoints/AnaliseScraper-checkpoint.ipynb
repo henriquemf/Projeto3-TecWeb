{
 "cells": [
  {
   "cell_type": "code",
   "execution_count": 44,
   "id": "8e1719cd",
   "metadata": {},
   "outputs": [],
   "source": [
    "import scrapy\n",
    "import json\n",
    "import re\n",
    "from scrapy.crawler import CrawlerProcess\n",
    "from scrapper import gameScrapSpider, run_spider\n",
    "\n",
    "from selenium import webdriver\n",
    "from selenium.webdriver.common.action_chains import ActionChains\n",
    "import time"
   ]
  },
  {
   "cell_type": "code",
   "execution_count": 57,
   "id": "7448a46a",
   "metadata": {
    "scrolled": false
   },
   "outputs": [
    {
     "name": "stderr",
     "output_type": "stream",
     "text": [
      "C:\\Users\\guilh\\AppData\\Local\\Temp/ipykernel_10684/4010865020.py:1: DeprecationWarning: executable_path has been deprecated, please pass in a Service object\n",
      "  driver = webdriver.Chrome(\"env/Lib/site-packages/chromedriver.exe\")\n",
      "C:\\Users\\guilh\\AppData\\Local\\Temp/ipykernel_10684/4010865020.py:5: DeprecationWarning: find_element_by_* commands are deprecated. Please use find_element() instead\n",
      "  action.move_to_element(driver.find_element_by_css_selector(\".css-1xhzu1x\"))\n",
      "C:\\Users\\guilh\\AppData\\Local\\Temp/ipykernel_10684/4010865020.py:8: DeprecationWarning: find_element_by_* commands are deprecated. Please use find_element() instead\n",
      "  load_more_button = driver.find_element_by_css_selector(\".css-1xhzu1x\")\n",
      "C:\\Users\\guilh\\AppData\\Local\\Temp/ipykernel_10684/4010865020.py:12: DeprecationWarning: find_element_by_* commands are deprecated. Please use find_element() instead\n",
      "  action.move_to_element(driver.find_element_by_css_selector(\".css-1fyrp8j\"))\n"
     ]
    },
    {
     "ename": "ElementNotInteractableException",
     "evalue": "Message: element not interactable: [object HTMLHeadingElement] has no size and location\n  (Session info: chrome=96.0.4664.45)\nStacktrace:\nBacktrace:\n\tOrdinal0 [0x00596903+2517251]\n\tOrdinal0 [0x0052F8E1+2095329]\n\tOrdinal0 [0x00432848+1058888]\n\tOrdinal0 [0x00434F44+1068868]\n\tOrdinal0 [0x00434E0E+1068558]\n\tOrdinal0 [0x00435070+1069168]\n\tOrdinal0 [0x00462A1F+1255967]\n\tOrdinal0 [0x00462163+1253731]\n\tOrdinal0 [0x0048CB79+1428345]\n\tOrdinal0 [0x004764D3+1336531]\n\tOrdinal0 [0x00485BBF+1399743]\n\tOrdinal0 [0x0047639B+1336219]\n\tOrdinal0 [0x004527A7+1189799]\n\tOrdinal0 [0x00453609+1193481]\n\tGetHandleVerifier [0x00725904+1577972]\n\tGetHandleVerifier [0x007D0B97+2279047]\n\tGetHandleVerifier [0x00626D09+534521]\n\tGetHandleVerifier [0x00625DB9+530601]\n\tOrdinal0 [0x00534FF9+2117625]\n\tOrdinal0 [0x005398A8+2136232]\n\tOrdinal0 [0x005399E2+2136546]\n\tOrdinal0 [0x00543541+2176321]\n\tBaseThreadInitThunk [0x7630FA29+25]\n\tRtlGetAppContainerNamedObjectPath [0x776A7A9E+286]\n\tRtlGetAppContainerNamedObjectPath [0x776A7A6E+238]\n",
     "output_type": "error",
     "traceback": [
      "\u001b[1;31m---------------------------------------------------------------------------\u001b[0m",
      "\u001b[1;31mElementNotInteractableException\u001b[0m           Traceback (most recent call last)",
      "\u001b[1;32m~\\AppData\\Local\\Temp/ipykernel_10684/4010865020.py\u001b[0m in \u001b[0;36m<module>\u001b[1;34m\u001b[0m\n\u001b[0;32m     11\u001b[0m \u001b[0maction\u001b[0m \u001b[1;33m=\u001b[0m \u001b[0mActionChains\u001b[0m\u001b[1;33m(\u001b[0m\u001b[0mdriver\u001b[0m\u001b[1;33m)\u001b[0m\u001b[1;33m\u001b[0m\u001b[1;33m\u001b[0m\u001b[0m\n\u001b[0;32m     12\u001b[0m \u001b[0maction\u001b[0m\u001b[1;33m.\u001b[0m\u001b[0mmove_to_element\u001b[0m\u001b[1;33m(\u001b[0m\u001b[0mdriver\u001b[0m\u001b[1;33m.\u001b[0m\u001b[0mfind_element_by_css_selector\u001b[0m\u001b[1;33m(\u001b[0m\u001b[1;34m\".css-1fyrp8j\"\u001b[0m\u001b[1;33m)\u001b[0m\u001b[1;33m)\u001b[0m\u001b[1;33m\u001b[0m\u001b[1;33m\u001b[0m\u001b[0m\n\u001b[1;32m---> 13\u001b[1;33m \u001b[0maction\u001b[0m\u001b[1;33m.\u001b[0m\u001b[0mperform\u001b[0m\u001b[1;33m(\u001b[0m\u001b[1;33m)\u001b[0m\u001b[1;33m\u001b[0m\u001b[1;33m\u001b[0m\u001b[0m\n\u001b[0m\u001b[0;32m     14\u001b[0m \u001b[1;33m\u001b[0m\u001b[0m\n\u001b[0;32m     15\u001b[0m \u001b[0mselenium_response_text\u001b[0m \u001b[1;33m=\u001b[0m \u001b[0mdriver\u001b[0m\u001b[1;33m.\u001b[0m\u001b[0mpage_source\u001b[0m\u001b[1;33m\u001b[0m\u001b[1;33m\u001b[0m\u001b[0m\n",
      "\u001b[1;32m~\\AppData\\Local\\Packages\\PythonSoftwareFoundation.Python.3.9_qbz5n2kfra8p0\\LocalCache\\local-packages\\Python39\\site-packages\\selenium\\webdriver\\common\\action_chains.py\u001b[0m in \u001b[0;36mperform\u001b[1;34m(self)\u001b[0m\n\u001b[0;32m     73\u001b[0m         \u001b[0mPerforms\u001b[0m \u001b[0mall\u001b[0m \u001b[0mstored\u001b[0m \u001b[0mactions\u001b[0m\u001b[1;33m.\u001b[0m\u001b[1;33m\u001b[0m\u001b[1;33m\u001b[0m\u001b[0m\n\u001b[0;32m     74\u001b[0m         \"\"\"\n\u001b[1;32m---> 75\u001b[1;33m         \u001b[0mself\u001b[0m\u001b[1;33m.\u001b[0m\u001b[0mw3c_actions\u001b[0m\u001b[1;33m.\u001b[0m\u001b[0mperform\u001b[0m\u001b[1;33m(\u001b[0m\u001b[1;33m)\u001b[0m\u001b[1;33m\u001b[0m\u001b[1;33m\u001b[0m\u001b[0m\n\u001b[0m\u001b[0;32m     76\u001b[0m \u001b[1;33m\u001b[0m\u001b[0m\n\u001b[0;32m     77\u001b[0m     \u001b[1;32mdef\u001b[0m \u001b[0mreset_actions\u001b[0m\u001b[1;33m(\u001b[0m\u001b[0mself\u001b[0m\u001b[1;33m)\u001b[0m\u001b[1;33m:\u001b[0m\u001b[1;33m\u001b[0m\u001b[1;33m\u001b[0m\u001b[0m\n",
      "\u001b[1;32m~\\AppData\\Local\\Packages\\PythonSoftwareFoundation.Python.3.9_qbz5n2kfra8p0\\LocalCache\\local-packages\\Python39\\site-packages\\selenium\\webdriver\\common\\actions\\action_builder.py\u001b[0m in \u001b[0;36mperform\u001b[1;34m(self)\u001b[0m\n\u001b[0;32m     75\u001b[0m                 \u001b[0menc\u001b[0m\u001b[1;33m[\u001b[0m\u001b[1;34m\"actions\"\u001b[0m\u001b[1;33m]\u001b[0m\u001b[1;33m.\u001b[0m\u001b[0mappend\u001b[0m\u001b[1;33m(\u001b[0m\u001b[0mencoded\u001b[0m\u001b[1;33m)\u001b[0m\u001b[1;33m\u001b[0m\u001b[1;33m\u001b[0m\u001b[0m\n\u001b[0;32m     76\u001b[0m                 \u001b[0mdevice\u001b[0m\u001b[1;33m.\u001b[0m\u001b[0mactions\u001b[0m \u001b[1;33m=\u001b[0m \u001b[1;33m[\u001b[0m\u001b[1;33m]\u001b[0m\u001b[1;33m\u001b[0m\u001b[1;33m\u001b[0m\u001b[0m\n\u001b[1;32m---> 77\u001b[1;33m         \u001b[0mself\u001b[0m\u001b[1;33m.\u001b[0m\u001b[0mdriver\u001b[0m\u001b[1;33m.\u001b[0m\u001b[0mexecute\u001b[0m\u001b[1;33m(\u001b[0m\u001b[0mCommand\u001b[0m\u001b[1;33m.\u001b[0m\u001b[0mW3C_ACTIONS\u001b[0m\u001b[1;33m,\u001b[0m \u001b[0menc\u001b[0m\u001b[1;33m)\u001b[0m\u001b[1;33m\u001b[0m\u001b[1;33m\u001b[0m\u001b[0m\n\u001b[0m\u001b[0;32m     78\u001b[0m \u001b[1;33m\u001b[0m\u001b[0m\n\u001b[0;32m     79\u001b[0m     \u001b[1;32mdef\u001b[0m \u001b[0mclear_actions\u001b[0m\u001b[1;33m(\u001b[0m\u001b[0mself\u001b[0m\u001b[1;33m)\u001b[0m\u001b[1;33m:\u001b[0m\u001b[1;33m\u001b[0m\u001b[1;33m\u001b[0m\u001b[0m\n",
      "\u001b[1;32m~\\AppData\\Local\\Packages\\PythonSoftwareFoundation.Python.3.9_qbz5n2kfra8p0\\LocalCache\\local-packages\\Python39\\site-packages\\selenium\\webdriver\\remote\\webdriver.py\u001b[0m in \u001b[0;36mexecute\u001b[1;34m(self, driver_command, params)\u001b[0m\n\u001b[0;32m    422\u001b[0m         \u001b[0mresponse\u001b[0m \u001b[1;33m=\u001b[0m \u001b[0mself\u001b[0m\u001b[1;33m.\u001b[0m\u001b[0mcommand_executor\u001b[0m\u001b[1;33m.\u001b[0m\u001b[0mexecute\u001b[0m\u001b[1;33m(\u001b[0m\u001b[0mdriver_command\u001b[0m\u001b[1;33m,\u001b[0m \u001b[0mparams\u001b[0m\u001b[1;33m)\u001b[0m\u001b[1;33m\u001b[0m\u001b[1;33m\u001b[0m\u001b[0m\n\u001b[0;32m    423\u001b[0m         \u001b[1;32mif\u001b[0m \u001b[0mresponse\u001b[0m\u001b[1;33m:\u001b[0m\u001b[1;33m\u001b[0m\u001b[1;33m\u001b[0m\u001b[0m\n\u001b[1;32m--> 424\u001b[1;33m             \u001b[0mself\u001b[0m\u001b[1;33m.\u001b[0m\u001b[0merror_handler\u001b[0m\u001b[1;33m.\u001b[0m\u001b[0mcheck_response\u001b[0m\u001b[1;33m(\u001b[0m\u001b[0mresponse\u001b[0m\u001b[1;33m)\u001b[0m\u001b[1;33m\u001b[0m\u001b[1;33m\u001b[0m\u001b[0m\n\u001b[0m\u001b[0;32m    425\u001b[0m             response['value'] = self._unwrap_value(\n\u001b[0;32m    426\u001b[0m                 response.get('value', None))\n",
      "\u001b[1;32m~\\AppData\\Local\\Packages\\PythonSoftwareFoundation.Python.3.9_qbz5n2kfra8p0\\LocalCache\\local-packages\\Python39\\site-packages\\selenium\\webdriver\\remote\\errorhandler.py\u001b[0m in \u001b[0;36mcheck_response\u001b[1;34m(self, response)\u001b[0m\n\u001b[0;32m    245\u001b[0m                 \u001b[0malert_text\u001b[0m \u001b[1;33m=\u001b[0m \u001b[0mvalue\u001b[0m\u001b[1;33m[\u001b[0m\u001b[1;34m'alert'\u001b[0m\u001b[1;33m]\u001b[0m\u001b[1;33m.\u001b[0m\u001b[0mget\u001b[0m\u001b[1;33m(\u001b[0m\u001b[1;34m'text'\u001b[0m\u001b[1;33m)\u001b[0m\u001b[1;33m\u001b[0m\u001b[1;33m\u001b[0m\u001b[0m\n\u001b[0;32m    246\u001b[0m             \u001b[1;32mraise\u001b[0m \u001b[0mexception_class\u001b[0m\u001b[1;33m(\u001b[0m\u001b[0mmessage\u001b[0m\u001b[1;33m,\u001b[0m \u001b[0mscreen\u001b[0m\u001b[1;33m,\u001b[0m \u001b[0mstacktrace\u001b[0m\u001b[1;33m,\u001b[0m \u001b[0malert_text\u001b[0m\u001b[1;33m)\u001b[0m  \u001b[1;31m# type: ignore[call-arg]  # mypy is not smart enough here\u001b[0m\u001b[1;33m\u001b[0m\u001b[1;33m\u001b[0m\u001b[0m\n\u001b[1;32m--> 247\u001b[1;33m         \u001b[1;32mraise\u001b[0m \u001b[0mexception_class\u001b[0m\u001b[1;33m(\u001b[0m\u001b[0mmessage\u001b[0m\u001b[1;33m,\u001b[0m \u001b[0mscreen\u001b[0m\u001b[1;33m,\u001b[0m \u001b[0mstacktrace\u001b[0m\u001b[1;33m)\u001b[0m\u001b[1;33m\u001b[0m\u001b[1;33m\u001b[0m\u001b[0m\n\u001b[0m\u001b[0;32m    248\u001b[0m \u001b[1;33m\u001b[0m\u001b[0m\n\u001b[0;32m    249\u001b[0m     \u001b[1;32mdef\u001b[0m \u001b[0m_value_or_default\u001b[0m\u001b[1;33m(\u001b[0m\u001b[0mself\u001b[0m\u001b[1;33m,\u001b[0m \u001b[0mobj\u001b[0m\u001b[1;33m:\u001b[0m \u001b[0mMapping\u001b[0m\u001b[1;33m[\u001b[0m\u001b[0m_KT\u001b[0m\u001b[1;33m,\u001b[0m \u001b[0m_VT\u001b[0m\u001b[1;33m]\u001b[0m\u001b[1;33m,\u001b[0m \u001b[0mkey\u001b[0m\u001b[1;33m:\u001b[0m \u001b[0m_KT\u001b[0m\u001b[1;33m,\u001b[0m \u001b[0mdefault\u001b[0m\u001b[1;33m:\u001b[0m \u001b[0m_VT\u001b[0m\u001b[1;33m)\u001b[0m \u001b[1;33m->\u001b[0m \u001b[0m_VT\u001b[0m\u001b[1;33m:\u001b[0m\u001b[1;33m\u001b[0m\u001b[1;33m\u001b[0m\u001b[0m\n",
      "\u001b[1;31mElementNotInteractableException\u001b[0m: Message: element not interactable: [object HTMLHeadingElement] has no size and location\n  (Session info: chrome=96.0.4664.45)\nStacktrace:\nBacktrace:\n\tOrdinal0 [0x00596903+2517251]\n\tOrdinal0 [0x0052F8E1+2095329]\n\tOrdinal0 [0x00432848+1058888]\n\tOrdinal0 [0x00434F44+1068868]\n\tOrdinal0 [0x00434E0E+1068558]\n\tOrdinal0 [0x00435070+1069168]\n\tOrdinal0 [0x00462A1F+1255967]\n\tOrdinal0 [0x00462163+1253731]\n\tOrdinal0 [0x0048CB79+1428345]\n\tOrdinal0 [0x004764D3+1336531]\n\tOrdinal0 [0x00485BBF+1399743]\n\tOrdinal0 [0x0047639B+1336219]\n\tOrdinal0 [0x004527A7+1189799]\n\tOrdinal0 [0x00453609+1193481]\n\tGetHandleVerifier [0x00725904+1577972]\n\tGetHandleVerifier [0x007D0B97+2279047]\n\tGetHandleVerifier [0x00626D09+534521]\n\tGetHandleVerifier [0x00625DB9+530601]\n\tOrdinal0 [0x00534FF9+2117625]\n\tOrdinal0 [0x005398A8+2136232]\n\tOrdinal0 [0x005399E2+2136546]\n\tOrdinal0 [0x00543541+2176321]\n\tBaseThreadInitThunk [0x7630FA29+25]\n\tRtlGetAppContainerNamedObjectPath [0x776A7A9E+286]\n\tRtlGetAppContainerNamedObjectPath [0x776A7A6E+238]\n"
     ]
    }
   ],
   "source": [
    "driver = webdriver.Chrome(\"env/Lib/site-packages/chromedriver.exe\")\n",
    "driver.get(\"https://www.promobit.com.br/promocoes/jogos-de-pc/s/\")\n",
    "\n",
    "action = ActionChains(driver)\n",
    "action.move_to_element(driver.find_element_by_css_selector(\".css-1xhzu1x\"))\n",
    "action.perform()\n",
    "\n",
    "load_more_button = driver.find_element_by_css_selector(\".css-1xhzu1x\")\n",
    "load_more_button.click()\n",
    "time.sleep(2)\n",
    "driver.execute_script(\"window.scrollTo(0, Y)\") \n",
    "\n",
    "selenium_response_text = driver.page_source\n",
    "response = scrapy.Selector(text=selenium_response_text)"
   ]
  },
  {
   "cell_type": "code",
   "execution_count": 53,
   "id": "b19b7b3e",
   "metadata": {},
   "outputs": [
    {
     "name": "stdout",
     "output_type": "stream",
     "text": [
      "36\n"
     ]
    }
   ],
   "source": [
    "games_lista = []\n",
    "SET_SELECTOR = '.css-wauoyl'\n",
    "for game in response.css(SET_SELECTOR):\n",
    "    NAME_SELECTOR = '.css-10227v0 ::text'\n",
    "    OLDPRICE_SELECTOR = '.css-124gmjl ::text'\n",
    "    NEWPRICE_SELECTOR = '.css-1u0404w ::text'\n",
    "    STORE_SELECTOR = '.css-1a7v2lf ::text'\n",
    "    games_lista.append({\n",
    "        'name': game.css(NAME_SELECTOR).extract(),\n",
    "        'store': game.css(STORE_SELECTOR).extract(),\n",
    "        'price': game.css(OLDPRICE_SELECTOR).extract(),\n",
    "        'discounted price': game.css(NEWPRICE_SELECTOR).extract(),\n",
    "    })\n",
    "    \n",
    "print(len(games_lista))"
   ]
  },
  {
   "cell_type": "code",
   "execution_count": 38,
   "id": "ddfe2c7c",
   "metadata": {},
   "outputs": [],
   "source": [
    "def cleanupTitle(full_title):\n",
    "    if \"Jogo\" not in full_title:\n",
    "        return full_title\n",
    "    splitlist = re.split(\"Jogo | -\", full_title)\n",
    "    return splitlist[1]\n",
    "\n",
    "def cleanupFullPrice(price):\n",
    "    splitlist = price.split(\"\\xa0\")\n",
    "    return splitlist[-1]\n",
    "\n",
    "def cleanupFreeGame(price_string):\n",
    "    if price_string == \"de graça!\":\n",
    "        return \"0\"\n",
    "    else:\n",
    "        return price_string"
   ]
  },
  {
   "cell_type": "code",
   "execution_count": 36,
   "id": "72c0aa5d",
   "metadata": {},
   "outputs": [
    {
     "name": "stdout",
     "output_type": "stream",
     "text": [
      "Green Man Gaming\n",
      "[{'game': 'We Happy Few', 'prices': ['149,00', '14,90']}, {'game': \"Dragon's Dogma: Dark Arisen\", 'prices': ['74,99', '22,05']}, {'game': 'Days Gone', 'prices': ['199,90', '113,94']}, {'game': 'Watch Dogs Legion: Deluxe Edition', 'prices': ['274,99', '86,21']}, {'game': 'Middle-earth: Shadow of Mordor', 'prices': ['49,99', '12,25']}, {'game': 'Mortal Kombat 11', 'prices': ['159,99', '39,20']}, {'game': 'Batman: Arkham Knight', 'prices': ['49,99', '9,80']}, {'game': 'LEGO DC Super-Villains', 'prices': ['129,99', '19,11']}, {'game': 'Rise of the Tomb Raider: 20 Year Celebration', 'prices': ['85,00', '16,66']}, {'game': ' Black Friday Green Man Gaming', 'prices': ['17,88', '17,88']}, {'game': 'Middle-Earth: Shadow of War', 'prices': ['119,99', '23,52']}, {'game': 'Red Dead Online', 'prices': ['111,99', '54,88']}, {'game': 'Back 4 Blood', 'prices': ['279,99', '186,19']}, {'game': 'Horizon Zero Dawn Complete Edition', 'prices': ['200,00', '95,00']}, {'game': 'Ai War: Fleet Command', 'prices': ['19,99', '4,90']}, {'game': 'AER Memories of Old', 'prices': ['27,99', '2,74']}, {'game': 'Aegis of Earth: Protonovus Assault', 'prices': ['36,99', '7,25']}, {'game': 'Across the Rhine', 'prices': ['13,99', '3,50']}, {'game': 'XCOM: Ultimate Collection', 'prices': ['337,90', '43,05']}]\n",
      "epicgames.com\n",
      "[{'game': 'The Witcher 3: Wild Hunt', 'prices': ['99,96', '19,99']}]\n",
      "Steam\n",
      "[{'game': 'Curse of the Dead Gods', 'prices': ['69,90', '41,94']}, {'game': 'Murdered: Soul Suspect', 'prices': ['55,90', '5,59']}, {'game': 'Horizon Zero Dawn Complete Edition', 'prices': ['200,00', '100,00']}, {'game': 'Indie Friends (Pacote)', 'prices': ['193,37', '85,20']}, {'game': 'Dead Cells', 'prices': ['47,49', '28,49']}, {'game': 'Empire of Sin', 'prices': ['75,49', '37,74']}, {'game': 'Just Cause 3', 'prices': ['42,99', '6,44']}, {'game': \"Deus Ex: Human Revolution Director's Cut\", 'prices': ['34,99', '5,24']}, {'game': 'Deus Ex: The Fall', 'prices': ['16,99', '3,39']}, {'game': 'Deus Ex: Invisible War', 'prices': ['12,99', '1,81']}]\n",
      "Nuuvem\n",
      "[{'game': 'Xbox Game Pass para PC + EA Play - 3 Meses', 'prices': ['89,99', '29,99']}]\n",
      "gog.com\n",
      "[{'game': 'Roller Coaster Tycoon Deluxe Edition', 'prices': ['11,99', '4,09']}, {'game': 'Cyberpunk 2077', 'prices': ['199,90', '99,99']}]\n",
      "gamersgate.com\n",
      "[{'game': 'Red Dead Redemption II', 'prices': ['349,90', '125,95']}, {'game': 'Red Dead Redemption II', 'prices': ['239,00', '107,55']}]\n",
      "battle.net\n",
      "[{'game': 'Call of Duty: Black Ops Cold War', 'prices': ['229,90', '114,90']}]\n"
     ]
    }
   ],
   "source": [
    "games_by_store = {}\n",
    "for item in games_lista:\n",
    "    prices = {}\n",
    "    full_title = item['name'][0]\n",
    "    store = item['store'][0]\n",
    "    discounted_price = item['discounted price'][0]\n",
    "    \n",
    "    game = cleanupTitle(full_title)\n",
    "    discounted_price = cleanupFreeGame(discounted_price)\n",
    "    \n",
    "    if item['price'] != []:\n",
    "        notclean_price = item['price'][0]\n",
    "        full_price = cleanupFullPrice(notclean_price)\n",
    "    else:\n",
    "        full_price = item['discounted price'][0]\n",
    "        \n",
    "    \n",
    "    \n",
    "    \n",
    "    prices = [full_price, discounted_price]\n",
    "    \n",
    "    if store not in games_by_store.keys():\n",
    "        games_by_store[store] = []\n",
    "    games_by_store[store].append({'game': game, 'prices': prices})\n",
    "\n",
    "for item in games_by_store:\n",
    "    print(item)\n",
    "    print(games_by_store[item])"
   ]
  },
  {
   "cell_type": "code",
   "execution_count": null,
   "id": "080a3259",
   "metadata": {},
   "outputs": [],
   "source": []
  },
  {
   "cell_type": "code",
   "execution_count": null,
   "id": "b0ac9b3a",
   "metadata": {},
   "outputs": [],
   "source": []
  }
 ],
 "metadata": {
  "kernelspec": {
   "display_name": "env",
   "language": "python",
   "name": "env"
  },
  "language_info": {
   "codemirror_mode": {
    "name": "ipython",
    "version": 3
   },
   "file_extension": ".py",
   "mimetype": "text/x-python",
   "name": "python",
   "nbconvert_exporter": "python",
   "pygments_lexer": "ipython3",
   "version": "3.9.9"
  }
 },
 "nbformat": 4,
 "nbformat_minor": 5
}
